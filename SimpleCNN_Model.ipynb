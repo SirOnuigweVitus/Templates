{
  "nbformat": 4,
  "nbformat_minor": 0,
  "metadata": {
    "colab": {
      "name": "SimpleCNN_Model.ipynb",
      "provenance": [],
      "authorship_tag": "ABX9TyNTSopPqxJRy4B0yZLD8LMq",
      "include_colab_link": true
    },
    "kernelspec": {
      "name": "python3",
      "display_name": "Python 3"
    },
    "accelerator": "GPU"
  },
  "cells": [
    {
      "cell_type": "markdown",
      "metadata": {
        "id": "view-in-github",
        "colab_type": "text"
      },
      "source": [
        "<a href=\"https://colab.research.google.com/github/SirOnuigweVitus/Templates/blob/master/SimpleCNN_Model.ipynb\" target=\"_parent\"><img src=\"https://colab.research.google.com/assets/colab-badge.svg\" alt=\"Open In Colab\"/></a>"
      ]
    },
    {
      "cell_type": "code",
      "metadata": {
        "id": "G13e98Xh4iHB",
        "colab_type": "code",
        "colab": {}
      },
      "source": [
        "# Simple CNN Model with little modification of directory for your new data\n",
        "# part 1 - building the CNN model for image classification\n",
        "# importing the keras libraries and packages\n",
        "\n",
        "from keras.models import Sequential\n",
        "from keras.layers import Convolution2D\n",
        "from keras.layers import MaxPooling2D\n",
        "from keras.layers import Flatten\n",
        "from keras.layers import Dense"
      ],
      "execution_count": 0,
      "outputs": []
    },
    {
      "cell_type": "code",
      "metadata": {
        "id": "nYpJlkl77eX0",
        "colab_type": "code",
        "colab": {}
      },
      "source": [
        "# initializing the CNN\n",
        "classifier = Sequential()"
      ],
      "execution_count": 0,
      "outputs": []
    },
    {
      "cell_type": "code",
      "metadata": {
        "id": "LuRsibCy70qE",
        "colab_type": "code",
        "colab": {}
      },
      "source": [
        "# step 1 - convolution\n",
        "classifier.add(Convolution2D(64, 3, 3 input_shape = (64, 64, 3), activation 'relu'))"
      ],
      "execution_count": 0,
      "outputs": []
    },
    {
      "cell_type": "code",
      "metadata": {
        "id": "sfW_7g6c8jXx",
        "colab_type": "code",
        "colab": {}
      },
      "source": [
        "# step 2 - pooling\n",
        "classifier.add(MaxPooling2D(pool_size = (2, 2)))"
      ],
      "execution_count": 0,
      "outputs": []
    },
    {
      "cell_type": "code",
      "metadata": {
        "id": "_s_JmWtr_WYu",
        "colab_type": "code",
        "colab": {}
      },
      "source": [
        "# adding second convolutional layer to increase the accuracy outcome\n",
        "classifier.add(Convolution2D(64, 3, 3, activation 'relu'))\n",
        "classifier.add(MaxPooling2D(pool_size = (2, 2)))"
      ],
      "execution_count": 0,
      "outputs": []
    },
    {
      "cell_type": "code",
      "metadata": {
        "id": "XQWu3FxK84zK",
        "colab_type": "code",
        "colab": {}
      },
      "source": [
        "# step 3 - flattening\n",
        "classifier.add(Flatten())"
      ],
      "execution_count": 0,
      "outputs": []
    },
    {
      "cell_type": "code",
      "metadata": {
        "id": "pTjKoJJF9H6l",
        "colab_type": "code",
        "colab": {}
      },
      "source": [
        "# step 4 - full connection\n",
        "classifier.add(Dense(output_dim = 128, activation = 'relu'))\n",
        "classifier.add(Dense(output_dim = 1, activation = 'sigmoid'))"
      ],
      "execution_count": 0,
      "outputs": []
    },
    {
      "cell_type": "code",
      "metadata": {
        "id": "CMfyEx6N9urT",
        "colab_type": "code",
        "colab": {}
      },
      "source": [
        "# compiling the CNN\n",
        "classifier.compile(optimizer = 'adam', loss 'binary_crossentropy', metrics = ['accuracy'])"
      ],
      "execution_count": 0,
      "outputs": []
    },
    {
      "cell_type": "code",
      "metadata": {
        "id": "Bxrc-TU0Db8G",
        "colab_type": "code",
        "colab": {}
      },
      "source": [
        "from keras.preprocessing.image import ImageDataGenerator\n",
        "\n",
        "train_datagen = ImageDataGenerator(\n",
        "        rescale=1./255,\n",
        "        shear_range=0.2,\n",
        "        zoom_range=0.2,\n",
        "        horizontal_flip=True)\n",
        "test_datagen = ImageDataGenerator(rescale=1./255)"
      ],
      "execution_count": 0,
      "outputs": []
    },
    {
      "cell_type": "code",
      "metadata": {
        "id": "EV22ArDkD1--",
        "colab_type": "code",
        "colab": {}
      },
      "source": [
        "training_set = train_datagen.flow_from_directory('dataset/training_set',\n",
        "                                                  target_size=(64, 64),\n",
        "                                                  batch_size=32,\n",
        "                                                  class_mode='binary')\n",
        "test_set = test_datagen.flow_from_directory('dataset/test_set',\n",
        "                                            target_size=(64, 64),\n",
        "                                            batch_size=32,\n",
        "                                            class_mode='binary')"
      ],
      "execution_count": 0,
      "outputs": []
    },
    {
      "cell_type": "code",
      "metadata": {
        "id": "hM8lOhkIED-i",
        "colab_type": "code",
        "colab": {}
      },
      "source": [
        "model.fit(training_set,\n",
        "        steps_per_epoch=8000,\n",
        "        epochs=25,\n",
        "        validation_data=test_set,\n",
        "        validation_steps=2000)"
      ],
      "execution_count": 0,
      "outputs": []
    }
  ]
}